{
 "cells": [
  {
   "cell_type": "code",
   "execution_count": 3,
   "id": "036cbccf",
   "metadata": {},
   "outputs": [],
   "source": [
    "import numpy as np\n",
    "import pandas as pd\n",
    "import csv\n",
    "import os\n",
    "import math\n",
    "from scipy.optimize import fsolve"
   ]
  },
  {
   "cell_type": "code",
   "execution_count": 1,
   "id": "90e12767",
   "metadata": {},
   "outputs": [],
   "source": [
    "#finding the coordinates of the B point in the trapezoid\n",
    "#note 1: p is a dummy variable\n",
    "#note 2: mn refers to the negative slope\n",
    "def trapper(p,r1,r2,mn,th2):\n",
    "    \n",
    "    cx,cy = r2*np.sin(th2),r2*np.cos(th2)\n",
    "    bx, by = p\n",
    "    return (bx**2 + by**2 - r1**2, ((by-cy)/(bx-cx)) - mn )"
   ]
  },
  {
   "cell_type": "code",
   "execution_count": 4,
   "id": "505d8a0d",
   "metadata": {},
   "outputs": [],
   "source": [
    "#Return a dictionary with the total mass and surface area of each configuration\n",
    "    #Also includes other parameters; specific to the shape\n",
    "\n",
    "def area(mass=20,        #Target material mass (mass of tantalum, g)\n",
    "         shape='d',      #Target shape (see options)\n",
    "         thickness=25,   #Foil thickness (µm)\n",
    "         m=1,            #Slope for symm cutout OR slope for horseshoe \n",
    "         height=0.525,   #Height for D-shaped foils\n",
    "         r1=0.9144,      #Exterior radius\n",
    "         r2=0.3644,      #Innermost radius\n",
    "         length=3.4,     #target chamber length\n",
    "         th=np.pi/4,     #angle of the symm/horseshoe cutout\n",
    "         gap=None,       #setting gap between foils if desired\n",
    "         sep=0           #Separation distance (cm)\n",
    "        ):\n",
    "    density   = 16.69 #Tantalum, g/cm3\n",
    "    volume    = mass/density\n",
    "    thick_cm  = thickness*1e-4\n",
    "    \n",
    "    #Options for shape\n",
    "    #D shaped\n",
    "    d_list = ['D','d','D-shaped','d-shaped']\n",
    "    #Pizza ('symmetrical')\n",
    "    s_list = ['symm','Symm']\n",
    "    #Doughnut (with or without horseshoes near the ionizer entrance)\n",
    "    h_list = ['Donut','donut','doughnut','Doughnut','ring','Ring']\n",
    "    #Concentric cylinders (This option doesn't work yet – was low priority)\n",
    "    c_list = ['coil','Coil','cylinder','Cylinder','tube','Tube']\n",
    "    \n",
    "    if shape in d_list:\n",
    "        #area of the piece above the D-shaped foil\n",
    "        ##note: 'height' is d in source equation (see https://en.wikipedia.org/wiki/Circular_segment)\n",
    "        a  = r1**2 * (np.arccos(1 - (r1-height)/r1)) - (height) * np.sqrt(r1**2 - height**2) \n",
    "        #area of the foil = area of a circle - the area above \n",
    "        AREA = np.pi*r1**2 - a\n",
    "        \n",
    "        number = volume / (thick_cm*AREA) #find number of foils\n",
    "        number = math.floor(number)       #integer (floor since we can't use more mass, but can use less)\n",
    "\n",
    "        tot_area = number * AREA * 2      #total surface area (not including the thin edges)\n",
    "        \n",
    "        \n",
    "        mass = AREA*number*thick_cm*density #actual mass used\n",
    "        hs,b = 0,0 #unused parameters (for other shapes)\n",
    "    \n",
    "    elif shape == 'arc':\n",
    "        #currently tailored to one arc equation since time was short when I was doing this\n",
    "        \n",
    "        #see ./Sketches/Arc-Drawing.jpeg for visual of below equations\n",
    "        \n",
    "        #equation of the smaller circle making the arc\n",
    "        ###x^{2}-1.8x+y^{2}-0.6y=-0.65\n",
    "        r2 = np.sqrt(0.25)\n",
    "        c = np.sqrt((0.8923-0.5939)**2 + (0.6953+0.1999)**2)\n",
    "    \n",
    "        #segment of large circle that gets cut off\n",
    "        h1 = r1 - np.sqrt(r1**2 - 0.25*c**2)\n",
    "        a1 = r1**2 * np.arccos(1-h1/r1) - (r1-h1)*np.sqrt(r1**2 - (r1-h1)**2)\n",
    "   \n",
    "        #segment of small circle that gets cut off\n",
    "        h2 = r2 - np.sqrt(r2**2 - 0.25*c**2)\n",
    "        a2 = r2**2 * np.arccos(1-h2/r2) - (r2-h2)*np.sqrt(r2**2 - (r2-h2)**2)\n",
    "        \n",
    "        #area of circle - segment 1 - segment 2\n",
    "        AREA = np.pi*r1**2 - a1 - a2\n",
    "        \n",
    "        number = volume/(thick_cm*AREA)\n",
    "        number = math.floor(number)\n",
    "        \n",
    "        tot_area = number * AREA * 2\n",
    "        hs,b = 0,0 #unused parameters\n",
    "        \n",
    "    elif shape in s_list:\n",
    "        #this shape (pizza, symmetrical) is defined by three parameters:\n",
    "            #1. th (theta, th1 in Inputs code) \n",
    "                #Defines 1/2 of the angle of the arc that is cut out of the circle\n",
    "            #2. m  \n",
    "                #Defines the slope of the lines in the pizza cutout\n",
    "                #One line will have slope m, the other will have slope -m\n",
    "            #3. b (not given by the user in this code or the Inputs code, calculated using th & m.)\n",
    "                #The x intercept of the two lines in the cutout (x not y; \"up\" is +x for us)\n",
    "                #Same for both lines since they intersect at y=0 (x axis)\n",
    "        #See ./Sketches/Pizza-Drawing.jpeg for a visual of these parameters\n",
    "        b = r1*np.cos(th) - r1*np.sin(th)*abs(m)\n",
    "    \n",
    "        A = (0,b)\n",
    "        B = (r1*np.sin(th),r1*np.cos(th))\n",
    "        C = (0,r1)\n",
    "\n",
    "        #See ./Sketches/Pizza-Drawing.jpeg for a visual of these shapes within the main circle\n",
    "        #area of the triangle\n",
    "        tri  = 0.5*abs(A[0]*(B[1]-C[1]) +\n",
    "                       B[0]*(C[1]-A[1]) + \n",
    "                       C[0]*(A[1]-B[1])\n",
    "                      )\n",
    "        #segment above chord\n",
    "        segm = 0.5*r1**2 * (th-np.sin(th))\n",
    "\n",
    "        #entire circle\n",
    "        circ = np.pi*r1**2\n",
    "\n",
    "        AREA = circ - (tri + segm)\n",
    "        \n",
    "        number = volume / (thick_cm*AREA) #find number of foils\n",
    "        number = math.floor(number)       #integer (floor since we can't use more mass, but can use less)\n",
    "\n",
    "        tot_area = number * AREA * 2      #total surface area (not including the thin edges)\n",
    "        \n",
    "        mass = AREA*number*thick_cm*density\n",
    "\n",
    "        hs = 0 #unused parameter\n",
    "        \n",
    "    elif shape in h_list:\n",
    "        #The doughnut/horseshoe shape is defined by a few parameters\n",
    "            #r1 (outer radius)\n",
    "            #r2 (inner radius)\n",
    "            #m  (slope of line starting from )\n",
    "        #See ./Sketches/Horseshoe-Drawing.jpeg for a visual\n",
    "        c1_area = np.pi*r1**2         #large circle area\n",
    "        c2_area = np.pi*r2**2         #small circle area\n",
    "        dn_area = c1_area - c2_area   #doughnut area\n",
    "        \n",
    "        #finding the area of the missing gap in the horseshoe shape \n",
    "        #area = trapezoid + top curve - bottom curve\n",
    "        \n",
    "        #trapezoid\n",
    "        if m > 0: \n",
    "            mn = -m\n",
    "        else:\n",
    "            mn = m\n",
    "        #function (defined above) that gets coordinates of B in ./Sketches/Horseshoe-Drawing.jpeg\n",
    "            #we can use bx,by to find the A-B base needed to calculate the trapezoid's area \n",
    "                #note: trapezoid's bases are both horizontal and parallel\n",
    "        bx, by = fsolve(trapper, (-0.3, 0.6),args=(r1,r2,mn,th))\n",
    "        \n",
    "        base1 = 2* r2*np.sin(th)     #C-D base; twice the cx value (th: of inner circle)\n",
    "        base2 = 2* bx                #A-B base\n",
    "        \n",
    "        cy          = r2*np.cos(np.pi/4)\n",
    "        trap_height = by - cy\n",
    "        \n",
    "        trap_area   = 0.5*(base1+base2)*trap_height\n",
    "        \n",
    "        #curves: again see https://en.wikipedia.org/wiki/Circular_segment for equation and h value meaning\n",
    "            #h1 = r1 - by\n",
    "        curve1_area = r1**2 * (np.arccos(1 - (r1-by)/r1)) - (by) * np.sqrt(r1**2 - by**2)\n",
    "            #h2 = r2 - cy\n",
    "        curve2_area = r2**2 * (np.arccos(1 - (r2-cy)/r2)) - (cy) * np.sqrt(r2**2 - cy**2)\n",
    "        \n",
    "        weird_area  = trap_area + curve1_area - curve2_area\n",
    "        \n",
    "        #horseshoe area\n",
    "        hs_area = dn_area - weird_area #doughnut area - cutout area\n",
    "        \n",
    "        #setting up horseshoe parameters\n",
    "        hs = {\n",
    "            'HS_num':None,     #number of horseshoe foils\n",
    "            'DN_num':None,     #number of doughnut foils\n",
    "            'HS_area':hs_area, #area of one side of horseshoe foils\n",
    "            'DN_area':dn_area  #area of one side of doughnut foils\n",
    "        }\n",
    "        \n",
    "        #hs fraction of foils: sep/length\n",
    "        #dn fraction of foils: (length-sep)/length\n",
    "        AREA   = (sep/length)*hs_area + ((length-sep)/length)*dn_area  \n",
    "        #average area per foil side (to calculate total area; relevant single surf. areas are in hs dict)\n",
    "        number = volume / (thick_cm*AREA) #find number of foils\n",
    "        number = math.floor(number)       #integer (floor since we can't use more mass, but can use less)\n",
    "\n",
    "        tot_area = number * AREA * 2      #total surface area (not including the thin edges)\n",
    "        \n",
    "        hs['HS_num'] = math.floor(sep/length * number)\n",
    "        hs['DN_num'] = number - hs['HS_num']\n",
    "        \n",
    "        mass = AREA*number*thick_cm*density\n",
    "\n",
    "        b=None #unused parameter\n",
    "    elif shape == 'cern':\n",
    "        #to validate the number calculations  \n",
    "        #also to get total surface area of the CERN setup\n",
    "        AREA = 1*15\n",
    "        \n",
    "        number = volume / (thick_cm*AREA) #find number of foils\n",
    "        number = math.floor(number)       #integer (floor since we can't use more mass, but can use less)\n",
    "\n",
    "        tot_area = number * AREA * 2      #total surface area (not including the thin edges)\n",
    "        \n",
    "        mass = AREA*number*thick_cm*density\n",
    "        \n",
    "        hs,b = 0,0 #unused parameters\n",
    "        \n",
    "    else: #shape is in c_list\n",
    "        #ABANDONED FOR NOW: was low priority. \n",
    "        #concentric cylinders (approximating a spiral design)\n",
    "        area   = 2*pi\n",
    "        \n",
    "        #THIS IS GONNA HAVE TO BE A LOOP OF SOME SORT WITH THE RADII \n",
    "        #big question: how to find the number based on area when area is highly dependent on the number of foils\n",
    "        \n",
    "        number = volume / (thick_cm*AREA) #find number of foils\n",
    "        number = math.floor(number)       #integer (floor since we can't use more mass, but can use less)\n",
    "\n",
    "        tot_area = number * AREA * 2      #total surface area (not including the thin edges)\n",
    " \n",
    "        mass = AREA*number*thick_cm*density\n",
    "    \n",
    "        hs,b = 0,0 #unused parameters\n",
    "    \n",
    "    #if gap is given, calculate new length value\n",
    "    if gap != None:\n",
    "        length = gap* (number+1) + number*thick_cm + sep \n",
    "    #if gap is not given, calculate it based on given length\n",
    "    else:\n",
    "        gap = (length-(number*thickness*1e-4)-sep)/(number+1)\n",
    "    \n",
    "    #create dictionary of values to report\n",
    "    things = {\n",
    "        'Area':AREA,\n",
    "        'Number':number,\n",
    "        'Total Area':tot_area,\n",
    "        'Gap':gap,\n",
    "        'Length':length,\n",
    "        'Horseshoes':hs,\n",
    "        'Mass':mass,\n",
    "        'b':b\n",
    "    }\n",
    "    return things"
   ]
  },
  {
   "cell_type": "markdown",
   "id": "9913bed8",
   "metadata": {},
   "source": [
    "### Thick (Run 4)"
   ]
  },
  {
   "cell_type": "code",
   "execution_count": 213,
   "id": "c934f1d5",
   "metadata": {},
   "outputs": [
    {
     "name": "stdout",
     "output_type": "stream",
     "text": [
      "Mass: 5.101\n",
      "Area/foil side: 2.218\n",
      "Tot Surf Area: 3.056e+03\n",
      "Number: 689\n"
     ]
    }
   ],
   "source": [
    "l = 3.4\n",
    "g = 0.004723991507430997\n",
    "t = 2e-4\n",
    "\n",
    "n = math.floor((l-g)/(g+t))\n",
    "a1 = 2.217779639723998\n",
    "m = 16.69*n*a1*t\n",
    "sa = a1*2*n\n",
    "print(f'Mass: {m:.4}')\n",
    "print(f'Area/foil side: {a1:.4}')\n",
    "print(f'Tot Surf Area: {sa:.4}')\n",
    "print(f'Number: {n}')"
   ]
  },
  {
   "cell_type": "markdown",
   "id": "1950c1c3",
   "metadata": {},
   "source": [
    "### Thick (Run 5)"
   ]
  },
  {
   "cell_type": "code",
   "execution_count": 214,
   "id": "9e7a0a83",
   "metadata": {},
   "outputs": [
    {
     "data": {
      "text/plain": [
       "{'Area': 2.217779639723998,\n",
       " 'Number': 5874,\n",
       " 'Total Area': 26054.475207477528,\n",
       " 'Gap': 0.004723991507430997,\n",
       " 'Length': 28.92825010615711,\n",
       " 'Horseshoes': 0,\n",
       " 'Mass': 43.484919121279994,\n",
       " 'b': 0}"
      ]
     },
     "execution_count": 214,
     "metadata": {},
     "output_type": "execute_result"
    }
   ],
   "source": [
    "area(mass=43.49,thickness=2,gap=0.004723991507430997)"
   ]
  },
  {
   "cell_type": "markdown",
   "id": "f2e8f334",
   "metadata": {},
   "source": [
    "### Thickness (Run 6)"
   ]
  },
  {
   "cell_type": "code",
   "execution_count": 217,
   "id": "96fe3df2",
   "metadata": {},
   "outputs": [
    {
     "data": {
      "text/plain": [
       "{'Area': 2.217779639723998,\n",
       " 'Number': 1345,\n",
       " 'Total Area': 5965.827230857554,\n",
       " 'Gap': 0.004716972203556656,\n",
       " 'Length': 6.618044585987259,\n",
       " 'Horseshoes': 0,\n",
       " 'Mass': 9.956965648301258,\n",
       " 'b': 0}"
      ]
     },
     "execution_count": 217,
     "metadata": {},
     "output_type": "execute_result"
    }
   ],
   "source": [
    "a1 = 2.217779639723998\n",
    "saC = 5970\n",
    "t = 2e-4\n",
    "g = 0.004723991507430997\n",
    "num = math.floor(saC/(2*a1))\n",
    "length = num*(g+t)-g\n",
    "mm = 16.69*num*a1*t\n",
    "area(mass=mm,length=length,thickness=2)"
   ]
  },
  {
   "cell_type": "markdown",
   "id": "eca613e4",
   "metadata": {},
   "source": [
    "## Arc (Run 7)"
   ]
  },
  {
   "cell_type": "code",
   "execution_count": 240,
   "id": "e6689ee4",
   "metadata": {},
   "outputs": [
    {
     "name": "stdout",
     "output_type": "stream",
     "text": [
      "c= 0.9436236537942444\n",
      "a1= 0.08374846092814647\n",
      "h2= 0.3344898794635205\n",
      "0.5 0.16551012053647954 0.02739359999999999\n",
      "0.23026330803471856 1.2334117614999915\n",
      "2.3127598026785634\n"
     ]
    },
    {
     "data": {
      "text/plain": [
       "{'Area': 2.3127598026785634,\n",
       " 'Number': 450,\n",
       " 'Total Area': 2081.483822410707,\n",
       " 'Gap': 0.005044345898004434,\n",
       " 'Length': 3.4,\n",
       " 'Horseshoes': 0,\n",
       " 'Mass': 43.49,\n",
       " 'b': 0}"
      ]
     },
     "execution_count": 240,
     "metadata": {},
     "output_type": "execute_result"
    }
   ],
   "source": [
    "area(mass=43.49,shape='arc')"
   ]
  },
  {
   "cell_type": "markdown",
   "id": "8a8869ca",
   "metadata": {},
   "source": [
    "## Thin (Run w/ Aurelia)"
   ]
  },
  {
   "cell_type": "code",
   "execution_count": 242,
   "id": "acccb2d7",
   "metadata": {},
   "outputs": [
    {
     "data": {
      "text/plain": [
       "{'Area': 2.217779639723998,\n",
       " 'Number': 5874,\n",
       " 'Total Area': 26054.475207477528,\n",
       " 'Gap': 0.004906417021276596,\n",
       " 'Length': 30,\n",
       " 'Horseshoes': 0,\n",
       " 'Mass': 43.484919121279994,\n",
       " 'b': 0}"
      ]
     },
     "execution_count": 242,
     "metadata": {},
     "output_type": "execute_result"
    }
   ],
   "source": [
    "area(mass=43.49,shape='D',thickness=2,length=30)"
   ]
  },
  {
   "cell_type": "code",
   "execution_count": null,
   "id": "92ca28e7",
   "metadata": {},
   "outputs": [],
   "source": []
  }
 ],
 "metadata": {
  "kernelspec": {
   "display_name": "Python 3",
   "language": "python",
   "name": "python3"
  },
  "language_info": {
   "codemirror_mode": {
    "name": "ipython",
    "version": 3
   },
   "file_extension": ".py",
   "mimetype": "text/x-python",
   "name": "python",
   "nbconvert_exporter": "python",
   "pygments_lexer": "ipython3",
   "version": "3.10.9 (tags/v3.10.9:1dd9be6, Dec  6 2022, 20:01:21) [MSC v.1934 64 bit (AMD64)]"
  },
  "vscode": {
   "interpreter": {
    "hash": "a536ccc9122598f4c5b72cc0c62c3382cdea913f97e6bceaae8434fc01fb499b"
   }
  }
 },
 "nbformat": 4,
 "nbformat_minor": 5
}
